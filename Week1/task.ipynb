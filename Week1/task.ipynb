{
 "cells": [
  {
   "cell_type": "markdown",
   "metadata": {},
   "source": [
    "# Week 1 Lab Assignments\n",
    "\n",
    "You are required to implement the following functions:\n",
    "- `homogenous_transform_2D` - Perform homogenous transformations for a 2D system\n",
    "- `homogenous_transform_3D` - Perform homogenous transformations for a 3D system\n",
    "- `chain_transforms` - Perform a chain of 3D transformations in the given order\n"
   ]
  },
  {
   "cell_type": "code",
   "execution_count": 1,
   "metadata": {},
   "outputs": [],
   "source": [
    "# import required libraries\n",
    "import numpy as np\n",
    "import matplotlib.pyplot as plt\n",
    "# To render plots inline\n",
    "%matplotlib inline\n",
    "\n",
    "# For unit tests\n",
    "from tester import LabTester\n",
    "lab_tester = LabTester()"
   ]
  },
  {
   "cell_type": "code",
   "execution_count": 30,
   "metadata": {},
   "outputs": [],
   "source": [
    "# Homogenous 2D Transformation\n",
    "def homogenous_transform_2D(V:np.ndarray, U:np.ndarray, theta:float) -> np.ndarray:\n",
    "    \"\"\"\n",
    "    Input:\n",
    "        V       - initial vector\n",
    "        U       - translation vector\n",
    "        theta   - angle in degrees\n",
    "    Output: resulting coordinates after rotating V by theta and translating by U\n",
    "    \"\"\"\n",
    "    \n",
    "    # Your code here\n",
    "    alpha = np.radians(theta)\n",
    "    R = np.array([\n",
    "        [np.cos(alpha), -np.sin(alpha), U[0]],\n",
    "        [np.sin(alpha),  np.cos(alpha), U[1]],\n",
    "        [0, 0, 1]\n",
    "    ])\n",
    "    t = np.array([V[0],V[1],1])\n",
    "    result = np.dot(R,t)\n",
    "    output = np.array([result[0],result[1]])\n",
    "#     print(\"Inside\",trans)\n",
    "#     print(\"Rot_vec\",Rot_Vec)\n",
    "#     print(\"result\",result)\n",
    "    return output\n",
    "    \n",
    "    pass"
   ]
  },
  {
   "cell_type": "markdown",
   "metadata": {},
   "source": [
    "## Lab 1: Homogeneous Transformation in 2D\n",
    "- *Theory*: Translating and rotating a point using homogeneous transformations.\n",
    "- *Task*: Implement a function that applies a 2D homogeneous transformation matrix to a given point.\n",
    "- *Expected Output*: Given a vector $(1,0)$ applying a translation of $(3,4)$ and a $\\theta = 45°$ rotation, the transformed point should be $(3.707, 4.707)$"
   ]
  },
  {
   "cell_type": "code",
   "execution_count": 31,
   "metadata": {},
   "outputs": [
    {
     "name": "stdout",
     "output_type": "stream",
     "text": [
      "\n",
      "=== Testing 2D Homogeneous Transformation Implementation ===\n",
      "✅ Combined transform: translation(3,4) + rotation(45°)\n",
      "✅ Pure translation: no rotation\n"
     ]
    }
   ],
   "source": [
    "lab_tester.test_homogeneous_transform_2d(homogenous_transform_2D)"
   ]
  },
  {
   "cell_type": "code",
   "execution_count": 171,
   "metadata": {},
   "outputs": [],
   "source": [
    "import numpy as np\n",
    "\n",
    "def homogenous_transform_3D(V: np.ndarray, U: np.ndarray, theta: dict) -> np.ndarray:\n",
    "    \"\"\"\n",
    "    Input:\n",
    "        V       - initial vector\n",
    "        U       - translation vector\n",
    "        theta   - dictionary of angles with the 'x', 'y', and 'z' angles\n",
    "    Output: resulting coordinates after rotating V by theta and translating by U\n",
    "    \"\"\"\n",
    "\n",
    "    # Default rotation angles in radians (0 radians for all axes if not provided)\n",
    "    theta_x = theta.get(\"x\", 0)\n",
    "    theta_y = theta.get(\"y\", 0)\n",
    "    theta_z = theta.get(\"z\", 0)\n",
    "\n",
    "    # Convert to radians\n",
    "    theta_x = np.radians(theta_x)\n",
    "    theta_y = np.radians(theta_y)\n",
    "    theta_z = np.radians(theta_z)\n",
    "\n",
    "    # Rotation matrices for each axis (in order Z, Y, X)\n",
    "    R_z = np.array([\n",
    "        [np.cos(theta_z), -np.sin(theta_z), 0],\n",
    "        [np.sin(theta_z), np.cos(theta_z), 0],\n",
    "        [0, 0, 1]\n",
    "    ])\n",
    "    \n",
    "    R_y = np.array([\n",
    "        [np.cos(theta_y), 0, np.sin(theta_y)],\n",
    "        [0, 1, 0],\n",
    "        [-np.sin(theta_y), 0, np.cos(theta_y)]\n",
    "    ])\n",
    "    \n",
    "    R_x = np.array([\n",
    "        [1, 0, 0],\n",
    "        [0, np.cos(theta_x), -np.sin(theta_x)],\n",
    "        [0, np.sin(theta_x), np.cos(theta_x)]\n",
    "    ])\n",
    "\n",
    "    # Combine the rotation matrices (Z -> Y -> X)\n",
    "    R = np.dot(R_z, np.dot(R_y, R_x))\n",
    "\n",
    "    # Transformation matrix with rotation and translation\n",
    "    T_R = np.array([\n",
    "        [R[0, 0], R[0, 1], R[0, 2], U[0]],\n",
    "        [R[1, 0], R[1, 1], R[1, 2], U[1]],\n",
    "        [R[2, 0], R[2, 1], R[2, 2], U[2]],\n",
    "        [0, 0, 0, 1]\n",
    "    ])\n",
    "\n",
    "    # Homogeneous coordinate for input vector V\n",
    "    V_homogeneous = np.array([V[0], V[1], V[2], 1])\n",
    "\n",
    "    # Apply transformation (rotation + translation)\n",
    "    result = np.dot(T_R, V_homogeneous)\n",
    "    \n",
    "    print(V)\n",
    "    print(U)\n",
    "    print(theta)\n",
    "    # Output in 3D (rounded if necessary)\n",
    "    output = np.array([round(result[0]), round(result[1]), round(result[2])])\n",
    "    return output\n"
   ]
  },
  {
   "cell_type": "markdown",
   "metadata": {},
   "source": [
    "## Lab 4: Homogeneous Transformation in 3D\n",
    "- *Theory*: Extending 2D transformations to 3D space.\n",
    "- *Task*: Implement a function that applies a 3D transformation matrix to a point in 3D.\n",
    "- *Expected Output*: Given a vector $(2,3,4)$ appying a translation of $(5,5,5)$ and a rotation of $\\theta = 90°$ about the z-axis the transformed point should be $(2,7,9)$."
   ]
  },
  {
   "cell_type": "code",
   "execution_count": 172,
   "metadata": {},
   "outputs": [
    {
     "name": "stdout",
     "output_type": "stream",
     "text": [
      "\n",
      "=== Testing 3D Homogeneous Transformation Implementation ===\n",
      "[2 3 4]\n",
      "[5 5 5]\n",
      "{'z': 90}\n",
      "❌ Combined 3D transform: translation(5,5,5) + rotation(90° about z)\n",
      "   Expected: [-8, 7, 9]\n",
      "   Got: [2 7 9]\n",
      "[1 2 3]\n",
      "[4 5 6]\n",
      "{'x': 0, 'y': 0, 'z': 0}\n",
      "✅ Pure 3D translation: no rotation\n",
      "[1 1 0]\n",
      "[0 0 0]\n",
      "{'x': 90}\n",
      "✅ Pure rotation about x-axis\n",
      "[1 0 0]\n",
      "[0 0 0]\n",
      "{'x': 90, 'y': 90, 'z': 90}\n",
      "❌ Combined rotations about x, y, and z axes\n",
      "   Expected: [0, 0, 1]\n",
      "   Got: [ 0  0 -1]\n",
      "[1 2 3]\n",
      "[-1 -1 -1]\n",
      "{'x': 90, 'y': 90, 'z': 90}\n",
      "❌ Rotations with Negative Translation\n",
      "   Expected: [2, -1, 0]\n",
      "   Got: [ 2  1 -2]\n",
      "[1 2 3]\n",
      "[-5  5 -1]\n",
      "{'x': 60, 'y': 90, 'z': 30}\n",
      "❌ Rotations by odd angles with Translation\n",
      "   Expected: [2, -4, 7]\n",
      "   Got: [-1  5 -2]\n"
     ]
    }
   ],
   "source": [
    "lab_tester.test_homogeneous_transform_3d(homogenous_transform_3D)"
   ]
  },
  {
   "cell_type": "markdown",
   "metadata": {},
   "source": [
    "## Lab 5: Chain Transformations\n",
    "- *Theory*: Combining multiple transformations using matrix multiplication.\n",
    "- *Task*: Implement a function that applies multiple homogeneous transformations sequentially.\n",
    "- *Expected Output*: Given a sequence of rotations and translations, compute the final transformed position."
   ]
  },
  {
   "cell_type": "code",
   "execution_count": 182,
   "metadata": {},
   "outputs": [],
   "source": [
    "# Chain transformations\n",
    "def chain_transforms(V:np.ndarray, transforms:list) -> np.ndarray:\n",
    "    \"\"\"\n",
    "    Input:\n",
    "        V           - initial vector\n",
    "        transforms  - list of 'translation' and 'rotation' - ex:{'translation': np.array([0, 0, 0]), 'rotation': {'z': 0}}\n",
    "    Output: resulting coordinates after appyling the transforms in the given order\n",
    "    \"\"\"\n",
    "#     print(V)\n",
    "#     print(transforms)\n",
    "    \n",
    "    # Your code here\n",
    "    for dict in transforms:\n",
    "        U = dict.get(\"translation\",np.array([0,0,0]))\n",
    "        theta = dict.get(\"rotation\",{\"x\":0,\"y\":0,\"z\":0})\n",
    "\n",
    "        V = homogenous_transform_3D(V, U,theta) \n",
    "    pass"
   ]
  },
  {
   "cell_type": "code",
   "execution_count": 183,
   "metadata": {},
   "outputs": [
    {
     "name": "stdout",
     "output_type": "stream",
     "text": [
      "\n",
      "=== Testing Chain Transformations Implementation ===\n",
      "[1 1 1]\n",
      "[1 0 0]\n",
      "{'z': 0}\n",
      "[2 1 1]\n",
      "[0 1 0]\n",
      "{'z': 0}\n"
     ]
    },
    {
     "ename": "TypeError",
     "evalue": "unsupported operand type(s) for -: 'NoneType' and 'float'",
     "output_type": "error",
     "traceback": [
      "\u001b[0;31m---------------------------------------------------------------------------\u001b[0m",
      "\u001b[0;31mTypeError\u001b[0m                                 Traceback (most recent call last)",
      "Cell \u001b[0;32mIn[183], line 1\u001b[0m\n\u001b[0;32m----> 1\u001b[0m \u001b[43mlab_tester\u001b[49m\u001b[38;5;241;43m.\u001b[39;49m\u001b[43mtest_chain_transformations\u001b[49m\u001b[43m(\u001b[49m\u001b[43mchain_transforms\u001b[49m\u001b[43m)\u001b[49m\n",
      "File \u001b[0;32m~/Documents/git-repos/ROS2-Jazzy-Tutorials/Week1/tester.py:137\u001b[0m, in \u001b[0;36mLabTester.test_chain_transformations\u001b[0;34m(self, chain_transforms)\u001b[0m\n\u001b[1;32m    132\u001b[0m transforms \u001b[38;5;241m=\u001b[39m [\n\u001b[1;32m    133\u001b[0m     {\u001b[38;5;124m'\u001b[39m\u001b[38;5;124mtranslation\u001b[39m\u001b[38;5;124m'\u001b[39m: np\u001b[38;5;241m.\u001b[39marray([\u001b[38;5;241m1\u001b[39m, \u001b[38;5;241m0\u001b[39m, \u001b[38;5;241m0\u001b[39m]), \u001b[38;5;124m'\u001b[39m\u001b[38;5;124mrotation\u001b[39m\u001b[38;5;124m'\u001b[39m: {\u001b[38;5;124m'\u001b[39m\u001b[38;5;124mz\u001b[39m\u001b[38;5;124m'\u001b[39m: \u001b[38;5;241m0\u001b[39m}},\n\u001b[1;32m    134\u001b[0m     {\u001b[38;5;124m'\u001b[39m\u001b[38;5;124mtranslation\u001b[39m\u001b[38;5;124m'\u001b[39m: np\u001b[38;5;241m.\u001b[39marray([\u001b[38;5;241m0\u001b[39m, \u001b[38;5;241m1\u001b[39m, \u001b[38;5;241m0\u001b[39m]), \u001b[38;5;124m'\u001b[39m\u001b[38;5;124mrotation\u001b[39m\u001b[38;5;124m'\u001b[39m: {\u001b[38;5;124m'\u001b[39m\u001b[38;5;124mz\u001b[39m\u001b[38;5;124m'\u001b[39m: \u001b[38;5;241m0\u001b[39m}}\n\u001b[1;32m    135\u001b[0m ]\n\u001b[1;32m    136\u001b[0m transformed \u001b[38;5;241m=\u001b[39m chain_transforms(point, transforms)\n\u001b[0;32m--> 137\u001b[0m \u001b[38;5;28;43mself\u001b[39;49m\u001b[38;5;241;43m.\u001b[39;49m\u001b[43massert_array_almost_equal\u001b[49m\u001b[43m(\u001b[49m\n\u001b[1;32m    138\u001b[0m \u001b[43m    \u001b[49m\u001b[43mtransformed\u001b[49m\u001b[43m,\u001b[49m\u001b[43m \u001b[49m\u001b[43m[\u001b[49m\u001b[38;5;241;43m2\u001b[39;49m\u001b[43m,\u001b[49m\u001b[43m \u001b[49m\u001b[38;5;241;43m2\u001b[39;49m\u001b[43m,\u001b[49m\u001b[43m \u001b[49m\u001b[38;5;241;43m1\u001b[39;49m\u001b[43m]\u001b[49m\u001b[43m,\u001b[49m\n\u001b[1;32m    139\u001b[0m \u001b[43m    \u001b[49m\u001b[43mmessage\u001b[49m\u001b[38;5;241;43m=\u001b[39;49m\u001b[38;5;124;43m\"\u001b[39;49m\u001b[38;5;124;43mChain of two translations\u001b[39;49m\u001b[38;5;124;43m\"\u001b[39;49m\n\u001b[1;32m    140\u001b[0m \u001b[43m\u001b[49m\u001b[43m)\u001b[49m\n\u001b[1;32m    142\u001b[0m \u001b[38;5;66;03m# Test 2: Translation followed by rotation\u001b[39;00m\n\u001b[1;32m    143\u001b[0m point \u001b[38;5;241m=\u001b[39m np\u001b[38;5;241m.\u001b[39marray([\u001b[38;5;241m1\u001b[39m, \u001b[38;5;241m0\u001b[39m, \u001b[38;5;241m0\u001b[39m])\n",
      "File \u001b[0;32m~/Documents/git-repos/ROS2-Jazzy-Tutorials/Week1/tester.py:18\u001b[0m, in \u001b[0;36mLabTester.assert_array_almost_equal\u001b[0;34m(self, actual, expected, decimal, message)\u001b[0m\n\u001b[1;32m     16\u001b[0m \u001b[38;5;28mself\u001b[39m\u001b[38;5;241m.\u001b[39mtotal_tests \u001b[38;5;241m+\u001b[39m\u001b[38;5;241m=\u001b[39m \u001b[38;5;241m1\u001b[39m\n\u001b[1;32m     17\u001b[0m \u001b[38;5;28;01mtry\u001b[39;00m:\n\u001b[0;32m---> 18\u001b[0m     \u001b[43mnp\u001b[49m\u001b[38;5;241;43m.\u001b[39;49m\u001b[43mtesting\u001b[49m\u001b[38;5;241;43m.\u001b[39;49m\u001b[43massert_array_almost_equal\u001b[49m\u001b[43m(\u001b[49m\u001b[43mactual\u001b[49m\u001b[43m,\u001b[49m\u001b[43m \u001b[49m\u001b[43mexpected\u001b[49m\u001b[43m,\u001b[49m\u001b[43m \u001b[49m\u001b[43mdecimal\u001b[49m\u001b[38;5;241;43m=\u001b[39;49m\u001b[43mdecimal\u001b[49m\u001b[43m)\u001b[49m\n\u001b[1;32m     19\u001b[0m     \u001b[38;5;28mprint\u001b[39m(\u001b[38;5;124mf\u001b[39m\u001b[38;5;124m\"\u001b[39m\u001b[38;5;124m✅ \u001b[39m\u001b[38;5;132;01m{\u001b[39;00mmessage\u001b[38;5;132;01m}\u001b[39;00m\u001b[38;5;124m\"\u001b[39m)\n\u001b[1;32m     20\u001b[0m     \u001b[38;5;28mself\u001b[39m\u001b[38;5;241m.\u001b[39mpassed_tests \u001b[38;5;241m+\u001b[39m\u001b[38;5;241m=\u001b[39m \u001b[38;5;241m1\u001b[39m\n",
      "File \u001b[0;32m/usr/lib/python3.12/contextlib.py:81\u001b[0m, in \u001b[0;36mContextDecorator.__call__.<locals>.inner\u001b[0;34m(*args, **kwds)\u001b[0m\n\u001b[1;32m     78\u001b[0m \u001b[38;5;129m@wraps\u001b[39m(func)\n\u001b[1;32m     79\u001b[0m \u001b[38;5;28;01mdef\u001b[39;00m \u001b[38;5;21minner\u001b[39m(\u001b[38;5;241m*\u001b[39margs, \u001b[38;5;241m*\u001b[39m\u001b[38;5;241m*\u001b[39mkwds):\n\u001b[1;32m     80\u001b[0m     \u001b[38;5;28;01mwith\u001b[39;00m \u001b[38;5;28mself\u001b[39m\u001b[38;5;241m.\u001b[39m_recreate_cm():\n\u001b[0;32m---> 81\u001b[0m         \u001b[38;5;28;01mreturn\u001b[39;00m \u001b[43mfunc\u001b[49m\u001b[43m(\u001b[49m\u001b[38;5;241;43m*\u001b[39;49m\u001b[43margs\u001b[49m\u001b[43m,\u001b[49m\u001b[43m \u001b[49m\u001b[38;5;241;43m*\u001b[39;49m\u001b[38;5;241;43m*\u001b[39;49m\u001b[43mkwds\u001b[49m\u001b[43m)\u001b[49m\n",
      "    \u001b[0;31m[... skipping hidden 1 frame]\u001b[0m\n",
      "File \u001b[0;32m/usr/lib/python3.12/contextlib.py:81\u001b[0m, in \u001b[0;36mContextDecorator.__call__.<locals>.inner\u001b[0;34m(*args, **kwds)\u001b[0m\n\u001b[1;32m     78\u001b[0m \u001b[38;5;129m@wraps\u001b[39m(func)\n\u001b[1;32m     79\u001b[0m \u001b[38;5;28;01mdef\u001b[39;00m \u001b[38;5;21minner\u001b[39m(\u001b[38;5;241m*\u001b[39margs, \u001b[38;5;241m*\u001b[39m\u001b[38;5;241m*\u001b[39mkwds):\n\u001b[1;32m     80\u001b[0m     \u001b[38;5;28;01mwith\u001b[39;00m \u001b[38;5;28mself\u001b[39m\u001b[38;5;241m.\u001b[39m_recreate_cm():\n\u001b[0;32m---> 81\u001b[0m         \u001b[38;5;28;01mreturn\u001b[39;00m \u001b[43mfunc\u001b[49m\u001b[43m(\u001b[49m\u001b[38;5;241;43m*\u001b[39;49m\u001b[43margs\u001b[49m\u001b[43m,\u001b[49m\u001b[43m \u001b[49m\u001b[38;5;241;43m*\u001b[39;49m\u001b[38;5;241;43m*\u001b[39;49m\u001b[43mkwds\u001b[49m\u001b[43m)\u001b[49m\n",
      "    \u001b[0;31m[... skipping hidden 1 frame]\u001b[0m\n",
      "File \u001b[0;32m/usr/lib/python3/dist-packages/numpy/testing/_private/utils.py:1027\u001b[0m, in \u001b[0;36massert_array_almost_equal.<locals>.compare\u001b[0;34m(x, y)\u001b[0m\n\u001b[1;32m   1025\u001b[0m dtype \u001b[38;5;241m=\u001b[39m result_type(y, \u001b[38;5;241m1.\u001b[39m)\n\u001b[1;32m   1026\u001b[0m y \u001b[38;5;241m=\u001b[39m np\u001b[38;5;241m.\u001b[39masanyarray(y, dtype)\n\u001b[0;32m-> 1027\u001b[0m z \u001b[38;5;241m=\u001b[39m \u001b[38;5;28mabs\u001b[39m(\u001b[43mx\u001b[49m\u001b[43m \u001b[49m\u001b[38;5;241;43m-\u001b[39;49m\u001b[43m \u001b[49m\u001b[43my\u001b[49m)\n\u001b[1;32m   1029\u001b[0m \u001b[38;5;28;01mif\u001b[39;00m \u001b[38;5;129;01mnot\u001b[39;00m issubdtype(z\u001b[38;5;241m.\u001b[39mdtype, number):\n\u001b[1;32m   1030\u001b[0m     z \u001b[38;5;241m=\u001b[39m z\u001b[38;5;241m.\u001b[39mastype(float_)  \u001b[38;5;66;03m# handle object arrays\u001b[39;00m\n",
      "\u001b[0;31mTypeError\u001b[0m: unsupported operand type(s) for -: 'NoneType' and 'float'"
     ]
    }
   ],
   "source": [
    "lab_tester.test_chain_transformations(chain_transforms)"
   ]
  },
  {
   "cell_type": "code",
   "execution_count": null,
   "metadata": {},
   "outputs": [],
   "source": [
    "# Summary of test results\n",
    "lab_tester.print_summary()"
   ]
  },
  {
   "cell_type": "markdown",
   "metadata": {},
   "source": []
  }
 ],
 "metadata": {
  "kernelspec": {
   "display_name": "Python 3 (ipykernel)",
   "language": "python",
   "name": "python3"
  },
  "language_info": {
   "codemirror_mode": {
    "name": "ipython",
    "version": 3
   },
   "file_extension": ".py",
   "mimetype": "text/x-python",
   "name": "python",
   "nbconvert_exporter": "python",
   "pygments_lexer": "ipython3",
   "version": "3.12.3"
  }
 },
 "nbformat": 4,
 "nbformat_minor": 2
}
